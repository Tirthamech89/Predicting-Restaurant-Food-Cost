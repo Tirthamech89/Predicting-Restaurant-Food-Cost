{
 "cells": [
  {
   "cell_type": "code",
   "execution_count": 1,
   "metadata": {
    "collapsed": true
   },
   "outputs": [],
   "source": [
    "import pandas as pd\n",
    "from math import sqrt\n",
    "from sklearn.model_selection import train_test_split,GridSearchCV\n",
    "from sklearn.linear_model import LinearRegression\n",
    "from sklearn.metrics import mean_squared_error\n",
    "from sklearn.linear_model import Lasso\n",
    "import xgboost as xgb"
   ]
  },
  {
   "cell_type": "code",
   "execution_count": 52,
   "metadata": {},
   "outputs": [],
   "source": [
    "xgb_val=pd.read_excel('submission_XGBoost_stck_val_log.xlsx')#0.8507\n",
    "lgb_val=pd.read_excel('submission_lightGBM_stck_val_log.xlsx')#0.8447\n",
    "rf_val=pd.read_excel('submission_RandomForest_stack_val_log.xlsx')#0.8462\n",
    "cat_val=pd.read_excel('submission_catboost_stack_val.xlsx')#0.8462/0.8405(log)\n",
    "\n",
    "\n",
    "xgb_train=pd.read_excel('submission_XGBoost_stck_train_log.xlsx')\n",
    "lgb_train=pd.read_excel('submission_lightGBM_stck_train_log.xlsx')\n",
    "rf_train=pd.read_excel('submission_RandomForest_stack_train_log.xlsx')\n",
    "cat_train=pd.read_excel('submission_catboost_stack_train.xlsx')"
   ]
  },
  {
   "cell_type": "code",
   "execution_count": 53,
   "metadata": {},
   "outputs": [],
   "source": [
    "final_stack_val=pd.concat([xgb_val,\n",
    "                           #lgb_val\n",
    "                           #rf_val\n",
    "                           cat_val\n",
    "                          ],axis=1)\n",
    "final_stack_train=pd.concat([xgb_train,\n",
    "                             #lgb_train\n",
    "                             #rf_train\n",
    "                             cat_train\n",
    "                            ],axis=1)"
   ]
  },
  {
   "cell_type": "code",
   "execution_count": 54,
   "metadata": {},
   "outputs": [
    {
     "data": {
      "text/html": [
       "<div>\n",
       "<style>\n",
       "    .dataframe thead tr:only-child th {\n",
       "        text-align: right;\n",
       "    }\n",
       "\n",
       "    .dataframe thead th {\n",
       "        text-align: left;\n",
       "    }\n",
       "\n",
       "    .dataframe tbody tr th {\n",
       "        vertical-align: top;\n",
       "    }\n",
       "</style>\n",
       "<table border=\"1\" class=\"dataframe\">\n",
       "  <thead>\n",
       "    <tr style=\"text-align: right;\">\n",
       "      <th></th>\n",
       "      <th>xgb</th>\n",
       "      <th>ctb</th>\n",
       "    </tr>\n",
       "  </thead>\n",
       "  <tbody>\n",
       "    <tr>\n",
       "      <th>0</th>\n",
       "      <td>1094.283813</td>\n",
       "      <td>1131.311157</td>\n",
       "    </tr>\n",
       "    <tr>\n",
       "      <th>1</th>\n",
       "      <td>459.654358</td>\n",
       "      <td>411.144044</td>\n",
       "    </tr>\n",
       "    <tr>\n",
       "      <th>2</th>\n",
       "      <td>707.607666</td>\n",
       "      <td>727.184218</td>\n",
       "    </tr>\n",
       "    <tr>\n",
       "      <th>3</th>\n",
       "      <td>329.972992</td>\n",
       "      <td>370.660761</td>\n",
       "    </tr>\n",
       "    <tr>\n",
       "      <th>4</th>\n",
       "      <td>263.775482</td>\n",
       "      <td>266.856921</td>\n",
       "    </tr>\n",
       "  </tbody>\n",
       "</table>\n",
       "</div>"
      ],
      "text/plain": [
       "           xgb          ctb\n",
       "0  1094.283813  1131.311157\n",
       "1   459.654358   411.144044\n",
       "2   707.607666   727.184218\n",
       "3   329.972992   370.660761\n",
       "4   263.775482   266.856921"
      ]
     },
     "execution_count": 54,
     "metadata": {},
     "output_type": "execute_result"
    }
   ],
   "source": [
    "final_stack_val.head()"
   ]
  },
  {
   "cell_type": "code",
   "execution_count": 55,
   "metadata": {
    "collapsed": true
   },
   "outputs": [],
   "source": [
    "#Average_ensemble #0.8511_all\n",
    "final_stack1=final_stack_val.mean(axis=1)\n",
    "ypred1=pd.DataFrame(final_stack1)\n",
    "ypred1.columns=['COST']\n",
    "\n",
    "ypred1.to_excel('submission_stack_avg_V1_log.xlsx', index=False)\n",
    "\n",
    "#all: 0.8511\n",
    "#xgb_rf:0.8506\n",
    "#xgb_catl:0.8492\n",
    "#xgb_catwl:0.8509\n",
    "#xgb_lgb:0.8506"
   ]
  },
  {
   "cell_type": "code",
   "execution_count": 56,
   "metadata": {},
   "outputs": [
    {
     "data": {
      "text/html": [
       "<div>\n",
       "<style>\n",
       "    .dataframe thead tr:only-child th {\n",
       "        text-align: right;\n",
       "    }\n",
       "\n",
       "    .dataframe thead th {\n",
       "        text-align: left;\n",
       "    }\n",
       "\n",
       "    .dataframe tbody tr th {\n",
       "        vertical-align: top;\n",
       "    }\n",
       "</style>\n",
       "<table border=\"1\" class=\"dataframe\">\n",
       "  <thead>\n",
       "    <tr style=\"text-align: right;\">\n",
       "      <th></th>\n",
       "      <th>COST</th>\n",
       "    </tr>\n",
       "  </thead>\n",
       "  <tbody>\n",
       "    <tr>\n",
       "      <th>0</th>\n",
       "      <td>1112.797485</td>\n",
       "    </tr>\n",
       "    <tr>\n",
       "      <th>1</th>\n",
       "      <td>435.399201</td>\n",
       "    </tr>\n",
       "    <tr>\n",
       "      <th>2</th>\n",
       "      <td>717.395942</td>\n",
       "    </tr>\n",
       "    <tr>\n",
       "      <th>3</th>\n",
       "      <td>350.316876</td>\n",
       "    </tr>\n",
       "    <tr>\n",
       "      <th>4</th>\n",
       "      <td>265.316202</td>\n",
       "    </tr>\n",
       "  </tbody>\n",
       "</table>\n",
       "</div>"
      ],
      "text/plain": [
       "          COST\n",
       "0  1112.797485\n",
       "1   435.399201\n",
       "2   717.395942\n",
       "3   350.316876\n",
       "4   265.316202"
      ]
     },
     "execution_count": 56,
     "metadata": {},
     "output_type": "execute_result"
    }
   ],
   "source": [
    "ypred1.head()"
   ]
  },
  {
   "cell_type": "code",
   "execution_count": null,
   "metadata": {
    "collapsed": true
   },
   "outputs": [],
   "source": []
  }
 ],
 "metadata": {
  "kernelspec": {
   "display_name": "Python 3",
   "language": "python",
   "name": "python3"
  },
  "language_info": {
   "codemirror_mode": {
    "name": "ipython",
    "version": 3
   },
   "file_extension": ".py",
   "mimetype": "text/x-python",
   "name": "python",
   "nbconvert_exporter": "python",
   "pygments_lexer": "ipython3",
   "version": "3.6.1"
  }
 },
 "nbformat": 4,
 "nbformat_minor": 2
}
